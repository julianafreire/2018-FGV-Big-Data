{
 "cells": [
  {
   "cell_type": "markdown",
   "metadata": {},
   "source": [
    "# FGV Introduction to Data Science Bootcamp: Big Data Lab\n",
    "## Analyzing relationships between NYC taxi trips and weather"
   ]
  },
  {
   "cell_type": "code",
   "execution_count": 1,
   "metadata": {
    "collapsed": true
   },
   "outputs": [],
   "source": [
    "from datetime import datetime\n",
    "import pandas as pd\n",
    "from scipy.stats import pearsonr\n",
    "from scipy.stats import spearmanr\n",
    "%matplotlib inline\n",
    "# this makes the output of plotting commands be displayed inline\n",
    "import matplotlib.pyplot as plt"
   ]
  },
  {
   "cell_type": "markdown",
   "metadata": {},
   "source": [
    "### Reading the Taxi Data"
   ]
  },
  {
   "cell_type": "code",
   "execution_count": 2,
   "metadata": {
    "collapsed": true
   },
   "outputs": [],
   "source": [
    "# Order of attributes: time, n. trips, avg miles, avg duration (seconds)\n",
    "taxi_data = pd.read_csv('Data/taxi_2012.csv', header=0)\n",
    "# In the original data time is represented in secs since epoch time\n",
    "# Convert to Python date-time -- provides the ability to analyze data over days, hours, etc.\n",
    "taxi_data['time'] = pd.to_datetime(taxi_data['time'], unit='s')\n",
    "# create an index to speed up access\n",
    "taxi_data.index = taxi_data['time']\n",
    "# since index already has this information, we can delete the column in the dataframe\n",
    "del taxi_data['time']"
   ]
  },
  {
   "cell_type": "code",
   "execution_count": 3,
   "metadata": {},
   "outputs": [
    {
     "data": {
      "text/html": [
       "<div>\n",
       "<style>\n",
       "    .dataframe thead tr:only-child th {\n",
       "        text-align: right;\n",
       "    }\n",
       "\n",
       "    .dataframe thead th {\n",
       "        text-align: left;\n",
       "    }\n",
       "\n",
       "    .dataframe tbody tr th {\n",
       "        vertical-align: top;\n",
       "    }\n",
       "</style>\n",
       "<table border=\"1\" class=\"dataframe\">\n",
       "  <thead>\n",
       "    <tr style=\"text-align: right;\">\n",
       "      <th></th>\n",
       "      <th>n_trips</th>\n",
       "      <th>avg_miles</th>\n",
       "      <th>avg_duration[s]</th>\n",
       "    </tr>\n",
       "    <tr>\n",
       "      <th>time</th>\n",
       "      <th></th>\n",
       "      <th></th>\n",
       "      <th></th>\n",
       "    </tr>\n",
       "  </thead>\n",
       "  <tbody>\n",
       "    <tr>\n",
       "      <th>2012-01-01 00:00:00</th>\n",
       "      <td>14474.0</td>\n",
       "      <td>2.932867</td>\n",
       "      <td>764.10550</td>\n",
       "    </tr>\n",
       "    <tr>\n",
       "      <th>2012-01-01 01:00:00</th>\n",
       "      <td>15225.0</td>\n",
       "      <td>3.099577</td>\n",
       "      <td>819.52985</td>\n",
       "    </tr>\n",
       "    <tr>\n",
       "      <th>2012-01-01 02:00:00</th>\n",
       "      <td>13908.0</td>\n",
       "      <td>3.216513</td>\n",
       "      <td>790.59170</td>\n",
       "    </tr>\n",
       "    <tr>\n",
       "      <th>2012-01-01 03:00:00</th>\n",
       "      <td>12030.0</td>\n",
       "      <td>3.312311</td>\n",
       "      <td>744.66876</td>\n",
       "    </tr>\n",
       "    <tr>\n",
       "      <th>2012-01-01 04:00:00</th>\n",
       "      <td>9233.0</td>\n",
       "      <td>3.556351</td>\n",
       "      <td>713.47730</td>\n",
       "    </tr>\n",
       "  </tbody>\n",
       "</table>\n",
       "</div>"
      ],
      "text/plain": [
       "                     n_trips  avg_miles  avg_duration[s]\n",
       "time                                                    \n",
       "2012-01-01 00:00:00  14474.0   2.932867        764.10550\n",
       "2012-01-01 01:00:00  15225.0   3.099577        819.52985\n",
       "2012-01-01 02:00:00  13908.0   3.216513        790.59170\n",
       "2012-01-01 03:00:00  12030.0   3.312311        744.66876\n",
       "2012-01-01 04:00:00   9233.0   3.556351        713.47730"
      ]
     },
     "execution_count": 3,
     "metadata": {},
     "output_type": "execute_result"
    }
   ],
   "source": [
    "taxi_data.head()"
   ]
  },
  {
   "cell_type": "markdown",
   "metadata": {},
   "source": [
    "#### There is a Panda package that supports profiling -- this can be useful for data cleaning. \n",
    "#### See: https://pypi.python.org/pypi/pandas-profiling/1.4.0\n",
    "#### For more info on how to profile data with Pandas, see https://www.datacamp.com/community/tutorials/python-data-profiling"
   ]
  },
  {
   "cell_type": "code",
   "execution_count": 4,
   "metadata": {},
   "outputs": [
    {
     "data": {
      "text/plain": [
       "<matplotlib.axes._subplots.AxesSubplot at 0x109670210>"
      ]
     },
     "execution_count": 4,
     "metadata": {},
     "output_type": "execute_result"
    },
    {
     "data": {
      "image/png": "[encoded data removed]",
      "text/plain": [
       "<matplotlib.figure.Figure at 0x109628b50>"
      ]
     },
     "metadata": {},
     "output_type": "display_data"
    }
   ],
   "source": [
    "# plotting number of taxi trips per day\n",
    "\n",
    "# to plot number of trips per day, we need to group all trips per day\n",
    "# using resample('D') and adding all trips using sum()\n",
    "taxi_data['n_trips'].resample('D').sum().plot()\n",
    "# Aggregate by month\n",
    "#taxi_data['n_trips'].resample('M').sum().plot()"
   ]
  },
  {
   "cell_type": "markdown",
   "metadata": {},
   "source": [
    "### Reading the Weather Data"
   ]
  },
  {
   "cell_type": "code",
   "execution_count": 3,
   "metadata": {
    "collapsed": true
   },
   "outputs": [],
   "source": [
    "# order of attributes: time, wind speed (m/s), avg precipitation (ml), avg snow depth (cm)\n",
    "\n",
    "weather_data = pd.read_csv('Data/weather_2012.csv', header=0)\n",
    "weather_data.rename(columns={'time[s]': 'time'}, inplace=True)\n",
    "weather_data['time'] = pd.to_datetime(weather_data['time'], unit='s')\n",
    "weather_data.index = weather_data['time']\n",
    "del weather_data['time']"
   ]
  },
  {
   "cell_type": "code",
   "execution_count": 4,
   "metadata": {},
   "outputs": [
    {
     "data": {
      "text/html": [
       "<div>\n",
       "<style>\n",
       "    .dataframe thead tr:only-child th {\n",
       "        text-align: right;\n",
       "    }\n",
       "\n",
       "    .dataframe thead th {\n",
       "        text-align: left;\n",
       "    }\n",
       "\n",
       "    .dataframe tbody tr th {\n",
       "        vertical-align: top;\n",
       "    }\n",
       "</style>\n",
       "<table border=\"1\" class=\"dataframe\">\n",
       "  <thead>\n",
       "    <tr style=\"text-align: right;\">\n",
       "      <th></th>\n",
       "      <th>avg_wind_speed[m_s]</th>\n",
       "      <th>avg_precip[ml]</th>\n",
       "      <th>avg_snow[cm]</th>\n",
       "    </tr>\n",
       "    <tr>\n",
       "      <th>time</th>\n",
       "      <th></th>\n",
       "      <th></th>\n",
       "      <th></th>\n",
       "    </tr>\n",
       "  </thead>\n",
       "  <tbody>\n",
       "    <tr>\n",
       "      <th>2012-01-01 00:00:00</th>\n",
       "      <td>5.7</td>\n",
       "      <td>0.0</td>\n",
       "      <td>0.0</td>\n",
       "    </tr>\n",
       "    <tr>\n",
       "      <th>2012-01-01 01:00:00</th>\n",
       "      <td>5.7</td>\n",
       "      <td>0.0</td>\n",
       "      <td>0.0</td>\n",
       "    </tr>\n",
       "    <tr>\n",
       "      <th>2012-01-01 02:00:00</th>\n",
       "      <td>5.7</td>\n",
       "      <td>0.0</td>\n",
       "      <td>0.0</td>\n",
       "    </tr>\n",
       "    <tr>\n",
       "      <th>2012-01-01 03:00:00</th>\n",
       "      <td>5.7</td>\n",
       "      <td>0.0</td>\n",
       "      <td>0.0</td>\n",
       "    </tr>\n",
       "    <tr>\n",
       "      <th>2012-01-01 04:00:00</th>\n",
       "      <td>3.1</td>\n",
       "      <td>0.0</td>\n",
       "      <td>0.0</td>\n",
       "    </tr>\n",
       "  </tbody>\n",
       "</table>\n",
       "</div>"
      ],
      "text/plain": [
       "                     avg_wind_speed[m_s]  avg_precip[ml]  avg_snow[cm]\n",
       "time                                                                  \n",
       "2012-01-01 00:00:00                  5.7             0.0           0.0\n",
       "2012-01-01 01:00:00                  5.7             0.0           0.0\n",
       "2012-01-01 02:00:00                  5.7             0.0           0.0\n",
       "2012-01-01 03:00:00                  5.7             0.0           0.0\n",
       "2012-01-01 04:00:00                  3.1             0.0           0.0"
      ]
     },
     "execution_count": 4,
     "metadata": {},
     "output_type": "execute_result"
    }
   ],
   "source": [
    "weather_data.head()"
   ]
  },
  {
   "cell_type": "code",
   "execution_count": 7,
   "metadata": {},
   "outputs": [
    {
     "data": {
      "text/plain": [
       "<matplotlib.axes._subplots.AxesSubplot at 0x109fc6690>"
      ]
     },
     "execution_count": 7,
     "metadata": {},
     "output_type": "execute_result"
    },
    {
     "data": {
      "image/png": "[encoded data removed]",
      "text/plain": [
       "<matplotlib.figure.Figure at 0x10430d650>"
      ]
     },
     "metadata": {},
     "output_type": "display_data"
    }
   ],
   "source": [
    "# plotting average wind speed per day\n",
    "# note that unline trips, here we use mean to aggregate wind speed\n",
    "\n",
    "weather_data['avg_wind_speed[m_s]'].resample('D').mean().plot()"
   ]
  },
  {
   "cell_type": "markdown",
   "metadata": {},
   "source": [
    "### Joining Taxi and Weather Data Sets"
   ]
  },
  {
   "cell_type": "code",
   "execution_count": 6,
   "metadata": {
    "collapsed": true
   },
   "outputs": [],
   "source": [
    "taxi_weather = taxi_data.join(weather_data, how='inner', sort=True)"
   ]
  },
  {
   "cell_type": "code",
   "execution_count": 7,
   "metadata": {},
   "outputs": [
    {
     "data": {
      "text/html": [
       "<div>\n",
       "<style>\n",
       "    .dataframe thead tr:only-child th {\n",
       "        text-align: right;\n",
       "    }\n",
       "\n",
       "    .dataframe thead th {\n",
       "        text-align: left;\n",
       "    }\n",
       "\n",
       "    .dataframe tbody tr th {\n",
       "        vertical-align: top;\n",
       "    }\n",
       "</style>\n",
       "<table border=\"1\" class=\"dataframe\">\n",
       "  <thead>\n",
       "    <tr style=\"text-align: right;\">\n",
       "      <th></th>\n",
       "      <th>n_trips</th>\n",
       "      <th>avg_miles</th>\n",
       "      <th>avg_duration[s]</th>\n",
       "      <th>avg_wind_speed[m_s]</th>\n",
       "      <th>avg_precip[ml]</th>\n",
       "      <th>avg_snow[cm]</th>\n",
       "    </tr>\n",
       "    <tr>\n",
       "      <th>time</th>\n",
       "      <th></th>\n",
       "      <th></th>\n",
       "      <th></th>\n",
       "      <th></th>\n",
       "      <th></th>\n",
       "      <th></th>\n",
       "    </tr>\n",
       "  </thead>\n",
       "  <tbody>\n",
       "    <tr>\n",
       "      <th>2012-01-01 00:00:00</th>\n",
       "      <td>14474.0</td>\n",
       "      <td>2.932867</td>\n",
       "      <td>764.10550</td>\n",
       "      <td>5.7</td>\n",
       "      <td>0.0</td>\n",
       "      <td>0.0</td>\n",
       "    </tr>\n",
       "    <tr>\n",
       "      <th>2012-01-01 01:00:00</th>\n",
       "      <td>15225.0</td>\n",
       "      <td>3.099577</td>\n",
       "      <td>819.52985</td>\n",
       "      <td>5.7</td>\n",
       "      <td>0.0</td>\n",
       "      <td>0.0</td>\n",
       "    </tr>\n",
       "    <tr>\n",
       "      <th>2012-01-01 02:00:00</th>\n",
       "      <td>13908.0</td>\n",
       "      <td>3.216513</td>\n",
       "      <td>790.59170</td>\n",
       "      <td>5.7</td>\n",
       "      <td>0.0</td>\n",
       "      <td>0.0</td>\n",
       "    </tr>\n",
       "    <tr>\n",
       "      <th>2012-01-01 03:00:00</th>\n",
       "      <td>12030.0</td>\n",
       "      <td>3.312311</td>\n",
       "      <td>744.66876</td>\n",
       "      <td>5.7</td>\n",
       "      <td>0.0</td>\n",
       "      <td>0.0</td>\n",
       "    </tr>\n",
       "    <tr>\n",
       "      <th>2012-01-01 04:00:00</th>\n",
       "      <td>9233.0</td>\n",
       "      <td>3.556351</td>\n",
       "      <td>713.47730</td>\n",
       "      <td>3.1</td>\n",
       "      <td>0.0</td>\n",
       "      <td>0.0</td>\n",
       "    </tr>\n",
       "  </tbody>\n",
       "</table>\n",
       "</div>"
      ],
      "text/plain": [
       "                     n_trips  avg_miles  avg_duration[s]  avg_wind_speed[m_s]  \\\n",
       "time                                                                            \n",
       "2012-01-01 00:00:00  14474.0   2.932867        764.10550                  5.7   \n",
       "2012-01-01 01:00:00  15225.0   3.099577        819.52985                  5.7   \n",
       "2012-01-01 02:00:00  13908.0   3.216513        790.59170                  5.7   \n",
       "2012-01-01 03:00:00  12030.0   3.312311        744.66876                  5.7   \n",
       "2012-01-01 04:00:00   9233.0   3.556351        713.47730                  3.1   \n",
       "\n",
       "                     avg_precip[ml]  avg_snow[cm]  \n",
       "time                                               \n",
       "2012-01-01 00:00:00             0.0           0.0  \n",
       "2012-01-01 01:00:00             0.0           0.0  \n",
       "2012-01-01 02:00:00             0.0           0.0  \n",
       "2012-01-01 03:00:00             0.0           0.0  \n",
       "2012-01-01 04:00:00             0.0           0.0  "
      ]
     },
     "execution_count": 7,
     "metadata": {},
     "output_type": "execute_result"
    }
   ],
   "source": [
    "taxi_weather.head()"
   ]
  },
  {
   "cell_type": "markdown",
   "metadata": {},
   "source": [
    "### Analyzing Correlations Between Taxi and Weather"
   ]
  },
  {
   "cell_type": "markdown",
   "metadata": {},
   "source": [
    "#### All Possible Correlations"
   ]
  },
  {
   "cell_type": "code",
   "execution_count": 8,
   "metadata": {},
   "outputs": [
    {
     "name": "stdout",
     "output_type": "stream",
     "text": [
      "                      n_trips  avg_miles  avg_duration[s]  \\\n",
      "n_trips              1.000000  -0.786759         0.418711   \n",
      "avg_miles           -0.786759   1.000000        -0.323227   \n",
      "avg_duration[s]      0.418711  -0.323227         1.000000   \n",
      "avg_wind_speed[m_s]  0.159532  -0.180091        -0.028842   \n",
      "avg_precip[ml]      -0.087629   0.090257         0.000351   \n",
      "avg_snow[cm]        -0.008036   0.015219        -0.005887   \n",
      "\n",
      "                     avg_wind_speed[m_s]  avg_precip[ml]  avg_snow[cm]  \n",
      "n_trips                         0.159532       -0.087629     -0.008036  \n",
      "avg_miles                      -0.180091        0.090257      0.015219  \n",
      "avg_duration[s]                -0.028842        0.000351     -0.005887  \n",
      "avg_wind_speed[m_s]             1.000000        0.006301      0.034725  \n",
      "avg_precip[ml]                  0.006301        1.000000      0.003677  \n",
      "avg_snow[cm]                    0.034725        0.003677      1.000000  \n"
     ]
    }
   ],
   "source": [
    "# find correlations between all columns\n",
    "print(taxi_weather.corr())\n",
    "\n",
    "# output does not say much... need to look at different slices!"
   ]
  },
  {
   "cell_type": "markdown",
   "metadata": {},
   "source": [
    "#### Correlation Between Number of Taxi Trips and Avg. Precipitation\n",
    "Pearson Correlation: https://en.wikipedia.org/wiki/Pearson_correlation_coefficient\n",
    "\n",
    "Spearman Correlation: Unlike the Pearson correlation, the Spearman correlation does not assume that both datasets are normally distributed. \n"
   ]
  },
  {
   "cell_type": "code",
   "execution_count": 9,
   "metadata": {},
   "outputs": [
    {
     "name": "stdout",
     "output_type": "stream",
     "text": [
      "('Pearson correlation:', -0.087628822361239825)\n",
      "('Spearman correlation:', -0.065821740086932895)\n"
     ]
    },
    {
     "data": {
      "image/png": "[encoded data removed]",
      "text/plain": [
       "<matplotlib.figure.Figure at 0x10a130890>"
      ]
     },
     "metadata": {},
     "output_type": "display_data"
    }
   ],
   "source": [
    "# for the entire time series\n",
    "\n",
    "plt.scatter(taxi_weather['n_trips'], taxi_weather['avg_precip[ml]'])\n",
    "\n",
    "print (\"Pearson correlation:\", pearsonr(taxi_weather['n_trips'].tolist(),\n",
    "                                   taxi_weather['avg_precip[ml]'].tolist())[0])\n",
    "print (\"Spearman correlation:\", spearmanr(taxi_weather['n_trips'].tolist(),\n",
    "                                   taxi_weather['avg_precip[ml]'].tolist())[0])"
   ]
  },
  {
   "cell_type": "code",
   "execution_count": 12,
   "metadata": {},
   "outputs": [
    {
     "name": "stdout",
     "output_type": "stream",
     "text": [
      "('Pearson correlation:', -0.16434094185890058)\n",
      "('Spearman correlation:', -0.13357912184569878)\n"
     ]
    },
    {
     "data": {
      "text/plain": [
       "<matplotlib.collections.PathCollection at 0x10aba4250>"
      ]
     },
     "execution_count": 12,
     "metadata": {},
     "output_type": "execute_result"
    },
    {
     "data": {
      "image/png": "[encoded data removed]",
      "text/plain": [
       "<matplotlib.figure.Figure at 0x10a655490>"
      ]
     },
     "metadata": {},
     "output_type": "display_data"
    }
   ],
   "source": [
    "# consider only data in April, when it rains the most in NYC\n",
    "\n",
    "# print taxi_weather[datetime(2012,4,1):datetime(2012,5,1)]['n_trips'].tolist()\n",
    "print (\"Pearson correlation:\",\n",
    "        pearsonr(taxi_weather[datetime(2012,4,1):datetime(2012,5,1)]['n_trips'].tolist(),\n",
    "        taxi_weather[datetime(2012,4,1):datetime(2012,5,1)]['avg_precip[ml]'].tolist())[0])\n",
    "\n",
    "print (\"Spearman correlation:\",\n",
    "       spearmanr(taxi_weather[datetime(2012,4,1):datetime(2012,5,1)]['n_trips'].tolist(),\n",
    "       taxi_weather[datetime(2012,4,1):datetime(2012,5,1)]['avg_precip[ml]'].tolist())[0])\n",
    "\n",
    "\n",
    "plt.scatter(taxi_weather[datetime(2012,4,1):datetime(2012,5,1)]['n_trips'],\n",
    "               taxi_weather[datetime(2012,4,1):datetime(2012,5,1)]['avg_precip[ml]'])"
   ]
  },
  {
   "cell_type": "code",
   "execution_count": 10,
   "metadata": {},
   "outputs": [
    {
     "name": "stdout",
     "output_type": "stream",
     "text": [
      "{'std': 8866.0578614010465, 'median': 22336.0, 'mean': 19830.453831264942}\n",
      "{'std': 1.240873860020123, 'median': 0.0, 'mean': 0.21529301735495981}\n",
      "('Number of records:', 8783)\n"
     ]
    }
   ],
   "source": [
    "trip_stats = {'mean':taxi_weather['n_trips'].mean(),\n",
    "              'std':taxi_weather['n_trips'].std(),\n",
    "              'median':taxi_weather['n_trips'].median()}\n",
    "# print trip_stats['mean']\n",
    "# print taxi_weather['n_trips'].max()\n",
    "# print taxi_weather['n_trips'].min()\n",
    "print trip_stats\n",
    "\n",
    "precip_stats = {'mean':taxi_weather['avg_precip[ml]'].mean(),\n",
    "              'std':taxi_weather['avg_precip[ml]'].std(),\n",
    "              'median':taxi_weather['avg_precip[ml]'].median()}\n",
    "print(precip_stats)\n",
    "\n",
    "print(\"Number of records:\", taxi_weather['n_trips'].count())\n",
    "\n",
    "\n"
   ]
  },
  {
   "cell_type": "code",
   "execution_count": 11,
   "metadata": {
    "scrolled": true
   },
   "outputs": [
    {
     "name": "stdout",
     "output_type": "stream",
     "text": [
      "('Pearson for values above mean:', (-0.10217652865313222, 0.0440069387770851))\n",
      "('Number of values above mean', 389)\n"
     ]
    }
   ],
   "source": [
    "# correlation for values above mean\n",
    "# note we are looking for an inverse correlation -- small number of taxi strips correlated with high precipitation\n",
    "above_mean = taxi_weather[(taxi_weather['n_trips'] < trip_stats['mean']) & \n",
    "                          (taxi_weather['avg_precip[ml]'] > precip_stats['mean'])]\n",
    "print (\"Pearson for values above mean:\",\n",
    "       pearsonr(above_mean['n_trips'].tolist(), above_mean['avg_precip[ml]'].tolist()))\n",
    "\n",
    "print (\"Number of values above mean\",above_mean['n_trips'].count())\n"
   ]
  },
  {
   "cell_type": "code",
   "execution_count": 15,
   "metadata": {},
   "outputs": [
    {
     "name": "stdout",
     "output_type": "stream",
     "text": [
      "('Pearson for values above median:', (-0.13115659161855348, 0.0025066949758942793))\n",
      "('Spearman correlation:', SpearmanrResult(correlation=-0.13085954066097058, pvalue=0.0025644855771150498))\n",
      "('Number values above median', 529)\n"
     ]
    }
   ],
   "source": [
    "# correlation for values above median\n",
    "above_median = taxi_weather[(taxi_weather['n_trips'] < trip_stats['median']) & \n",
    "                            (taxi_weather['avg_precip[ml]'] > precip_stats['median'])]\n",
    "print (\"Pearson for values above median:\",\n",
    "       pearsonr(above_median['n_trips'].tolist(), above_median['avg_precip[ml]'].tolist()))\n",
    "print (\"Spearman correlation:\",\n",
    "       spearmanr(above_median['n_trips'].tolist(), above_median['avg_precip[ml]'].tolist()))\n",
    "\n",
    "print (\"Number values above median\",above_median['n_trips'].count())\n",
    "\n"
   ]
  },
  {
   "cell_type": "code",
   "execution_count": 12,
   "metadata": {},
   "outputs": [
    {
     "name": "stdout",
     "output_type": "stream",
     "text": [
      "('Correlation over data with outliers removed:', (-0.046442498130126506, 1.7268891164775568e-05))\n",
      "('Number of normal values', 8556)\n"
     ]
    }
   ],
   "source": [
    "# correlation for normal values \n",
    "remove_outliers = taxi_weather[\n",
    "    (taxi_weather['n_trips'] > trip_stats['mean'] - 2*trip_stats['std']) & \n",
    "    (taxi_weather['n_trips'] < trip_stats['mean'] + 2*trip_stats['std']) &\n",
    "    (taxi_weather['avg_precip[ml]'] > precip_stats['mean'] - 2*precip_stats['std']) &\n",
    "    (taxi_weather['avg_precip[ml]'] < precip_stats['mean'] + 2*precip_stats['std'])\n",
    "    ]\n",
    "print(\"Correlation over data with outliers removed:\", \n",
    "       pearsonr(remove_outliers['n_trips'].tolist(), remove_outliers['avg_precip[ml]'].tolist()))\n",
    "print(\"Number of normal values\", remove_outliers['n_trips'].count())\n",
    "\n"
   ]
  },
  {
   "cell_type": "code",
   "execution_count": 17,
   "metadata": {},
   "outputs": [
    {
     "name": "stdout",
     "output_type": "stream",
     "text": [
      "('Only outliers and near outliers:', (-0.12136170781624016, 0.18116654163267656))\n",
      "('Only outliers and near outliers:', SpearmanrResult(correlation=-0.12972328204308056, pvalue=0.15269945094522722))\n",
      "('Number of values that are outliers and near outliers:', 123)\n"
     ]
    },
    {
     "data": {
      "text/plain": [
       "<matplotlib.collections.PathCollection at 0x10acc1d50>"
      ]
     },
     "execution_count": 17,
     "metadata": {},
     "output_type": "execute_result"
    },
    {
     "data": {
      "image/png": "[encoded data removed]",
      "text/plain": [
       "<matplotlib.figure.Figure at 0x10abe0110>"
      ]
     },
     "metadata": {},
     "output_type": "display_data"
    }
   ],
   "source": [
    "# correlation for outliers - 1 std deviation\n",
    "outlier = taxi_weather[(taxi_weather['n_trips'] < trip_stats['mean'] - trip_stats['std']) & \n",
    "                       (taxi_weather['avg_precip[ml]'] > precip_stats['mean'] + precip_stats['std'])\n",
    "                      ]\n",
    "print(\"Only outliers and near outliers:\",\n",
    "      pearsonr(outlier['n_trips'].tolist(), outlier['avg_precip[ml]'].tolist()))\n",
    "print(\"Only outliers and near outliers:\",\n",
    "       spearmanr(outlier['n_trips'].tolist(), outlier['avg_precip[ml]'].tolist()))\n",
    "\n",
    "print(\"Number of values that are outliers and near outliers:\",outlier['n_trips'].count())\n",
    "\n",
    "plt.scatter(outlier['n_trips'],outlier['avg_precip[ml]'])\n",
    "\n",
    "\n",
    "\n",
    "\n"
   ]
  },
  {
   "cell_type": "code",
   "execution_count": 13,
   "metadata": {
    "scrolled": true
   },
   "outputs": [
    {
     "name": "stdout",
     "output_type": "stream",
     "text": [
      "('Only outliers (2 std):', (-0.9492274641429379, 0.20373442372548936))\n",
      "('Only outliers (2 std):', SpearmanrResult(correlation=-1.0, pvalue=0.0))\n",
      "('Number of values that are outliers', 3)\n"
     ]
    },
    {
     "data": {
      "image/png": "[encoded data removed]",
      "text/plain": [
       "<matplotlib.figure.Figure at 0x10a130150>"
      ]
     },
     "metadata": {},
     "output_type": "display_data"
    }
   ],
   "source": [
    "# Now, let's look at 2 std deviations\n",
    "# What happens to the p-value?\n",
    "\n",
    "outlier = taxi_weather[(taxi_weather['n_trips'] < trip_stats['mean'] - 2*trip_stats['std']) & \n",
    "                       (taxi_weather['avg_precip[ml]'] > precip_stats['mean'] + 2*precip_stats['std'])\n",
    "                      ]\n",
    "\n",
    "plt.scatter(outlier['n_trips'],outlier['avg_precip[ml]'])\n",
    "print(\"Only outliers (2 std):\",\n",
    "      pearsonr(outlier['n_trips'].tolist(), outlier['avg_precip[ml]'].tolist()))\n",
    "print(\"Only outliers (2 std):\",\n",
    "      spearmanr(outlier['n_trips'].tolist(), outlier['avg_precip[ml]'].tolist()))\n",
    "print(\"Number of values that are outliers\", outlier['n_trips'].count())\n"
   ]
  },
  {
   "cell_type": "markdown",
   "metadata": {},
   "source": [
    "## Exercise 1: Correlation Between Taxi Trip Distance and Avg. Precipitation\n",
    "#### Try slicing the data in different ways. Examine  different months  (e.g., use a for loop) and compute the correlation for different months.  Look at the distribution of trip distances and how it varies when there is and when there isn't precipitation"
   ]
  },
  {
   "cell_type": "code",
   "execution_count": 19,
   "metadata": {},
   "outputs": [
    {
     "name": "stdout",
     "output_type": "stream",
     "text": [
      "0.0902567235274\n"
     ]
    }
   ],
   "source": [
    "print pearsonr(taxi_weather['avg_miles'].tolist(),\n",
    "               taxi_weather['avg_precip[ml]'].tolist())[0]"
   ]
  },
  {
   "cell_type": "markdown",
   "metadata": {
    "collapsed": true
   },
   "source": [
    "Let's further analyze the data. First, let's plot the two attributes."
   ]
  },
  {
   "cell_type": "code",
   "execution_count": 20,
   "metadata": {},
   "outputs": [
    {
     "data": {
      "text/plain": [
       "<matplotlib.axes._subplots.AxesSubplot at 0x10ace6190>"
      ]
     },
     "execution_count": 20,
     "metadata": {},
     "output_type": "execute_result"
    },
    {
     "data": {
      "image/png": "[encoded data removed]",
      "text/plain": [
       "<matplotlib.figure.Figure at 0x10a977050>"
      ]
     },
     "metadata": {},
     "output_type": "display_data"
    }
   ],
   "source": [
    "taxi_weather['avg_miles'].resample('D').mean().plot()"
   ]
  },
  {
   "cell_type": "code",
   "execution_count": 21,
   "metadata": {},
   "outputs": [
    {
     "data": {
      "text/plain": [
       "<matplotlib.axes._subplots.AxesSubplot at 0x10aec0110>"
      ]
     },
     "execution_count": 21,
     "metadata": {},
     "output_type": "execute_result"
    },
    {
     "data": {
      "image/png": "[encoded data removed]",
      "text/plain": [
       "<matplotlib.figure.Figure at 0x10aecbe50>"
      ]
     },
     "metadata": {},
     "output_type": "display_data"
    }
   ],
   "source": [
    "taxi_weather['avg_precip[ml]'].resample('D').mean().plot()"
   ]
  },
  {
   "cell_type": "markdown",
   "metadata": {},
   "source": [
    "May and June look rainier. Let's now compute the correlation for each month of the year."
   ]
  },
  {
   "cell_type": "code",
   "execution_count": 22,
   "metadata": {
    "scrolled": true
   },
   "outputs": [
    {
     "ename": "NameError",
     "evalue": "name 'std_taxi' is not defined",
     "output_type": "error",
     "traceback": [
      "\u001b[0;31m---------------------------------------------------------------------------\u001b[0m",
      "\u001b[0;31mNameError\u001b[0m                                 Traceback (most recent call last)",
      "\u001b[0;32m<ipython-input-22-e3d9136897fc>\u001b[0m in \u001b[0;36m<module>\u001b[0;34m()\u001b[0m\n\u001b[1;32m      5\u001b[0m \u001b[0mfilter_\u001b[0m \u001b[0;34m=\u001b[0m \u001b[0;34m'2012-%d'\u001b[0m \u001b[0;34m%\u001b[0m \u001b[0mm\u001b[0m\u001b[0;34m\u001b[0m\u001b[0m\n\u001b[1;32m      6\u001b[0m \u001b[0mmean_taxi\u001b[0m \u001b[0;34m=\u001b[0m \u001b[0mtaxi_weather\u001b[0m\u001b[0;34m[\u001b[0m\u001b[0mfilter_\u001b[0m\u001b[0;34m]\u001b[0m\u001b[0;34m[\u001b[0m\u001b[0;34m'avg_precip[ml]'\u001b[0m\u001b[0;34m]\u001b[0m\u001b[0;34m.\u001b[0m\u001b[0mmean\u001b[0m\u001b[0;34m(\u001b[0m\u001b[0;34m)\u001b[0m\u001b[0;34m\u001b[0m\u001b[0m\n\u001b[0;32m----> 7\u001b[0;31m \u001b[0;32mprint\u001b[0m\u001b[0;34m(\u001b[0m\u001b[0mstd_taxi\u001b[0m\u001b[0;34m)\u001b[0m\u001b[0;34m\u001b[0m\u001b[0m\n\u001b[0m\u001b[1;32m      8\u001b[0m \u001b[0;34m\u001b[0m\u001b[0m\n\u001b[1;32m      9\u001b[0m \u001b[0mm\u001b[0m \u001b[0;34m=\u001b[0m \u001b[0;36m2\u001b[0m\u001b[0;34m\u001b[0m\u001b[0m\n",
      "\u001b[0;31mNameError\u001b[0m: name 'std_taxi' is not defined"
     ]
    }
   ],
   "source": [
    "# tip: you can easily select each month from the taxi_weather table\n",
    "\n",
    "# define a filter to select month 1, January\n",
    "m = 1\n",
    "filter_ = '2012-%d' % m\n",
    "mean_taxi = taxi_weather[filter_]['avg_precip[ml]'].mean()\n",
    "print(std_taxi)\n",
    "\n",
    "m = 2\n",
    "filter_ = '2012-%d' % m\n",
    "mean_taxi = taxi_weather[filter_]['avg_precip[ml]'].mean()\n",
    "print(mean_taxi)\n",
    "\n",
    "\n"
   ]
  },
  {
   "cell_type": "markdown",
   "metadata": {},
   "source": [
    "Now, focus on the outliers (using 1 std deviation) for the correlation. Instead of detecting the outliers for the entire data,  detect them for each month, since, as we can see from the plot, each month has a different pattern."
   ]
  },
  {
   "cell_type": "code",
   "execution_count": null,
   "metadata": {
    "collapsed": true
   },
   "outputs": [],
   "source": [
    "# insert your code here"
   ]
  },
  {
   "cell_type": "markdown",
   "metadata": {},
   "source": [
    "Are the correlation values larger? Are they statistically significant?  "
   ]
  },
  {
   "cell_type": "markdown",
   "metadata": {},
   "source": [
    "Sometimes it is also interesting to do other analysis, in addition to computing a correlation score. For instance, let's look at the distribution of taxi trip distance for points that are outliers and points that are not outliers."
   ]
  },
  {
   "cell_type": "code",
   "execution_count": null,
   "metadata": {
    "collapsed": true,
    "scrolled": false
   },
   "outputs": [],
   "source": [
    "# distribution for outliers\n",
    "\n",
    "mean = taxi_weather['avg_precip[ml]'].mean()\n",
    "std = taxi_weather['avg_precip[ml]'].std()\n",
    "\n",
    "# c = taxi_weather['avg_miles'][taxi_weather['avg_precip[ml]'] > mean + std]\n",
    "# c.count()  # there are 340 rows\n",
    "\n",
    "n, bins, patches = plt.hist(taxi_weather['avg_miles'][taxi_weather['avg_precip[ml]'] > mean + std], 50,\n",
    "                            edgecolor='black',normed=1)\n"
   ]
  },
  {
   "cell_type": "code",
   "execution_count": null,
   "metadata": {
    "collapsed": true
   },
   "outputs": [],
   "source": [
    "# distribution for non-outliers\n",
    "\n",
    "n, bins, patches = plt.hist(taxi_weather['avg_miles'][taxi_weather['avg_precip[ml]'] < mean + std], 50,\n",
    "                            edgecolor='black',normed=1)"
   ]
  },
  {
   "cell_type": "markdown",
   "metadata": {},
   "source": [
    "We can see that, in very rainy days, there are more taxi trips that are longer in distance, when compared to less rainy days."
   ]
  },
  {
   "cell_type": "markdown",
   "metadata": {},
   "source": [
    "## Exercise 2: Analyze the Correlation Between Average Trip Speed and Precipitation -- both rain and snow\n"
   ]
  },
  {
   "cell_type": "markdown",
   "metadata": {
    "collapsed": true
   },
   "source": [
    "First, let's compute the speed."
   ]
  },
  {
   "cell_type": "code",
   "execution_count": null,
   "metadata": {
    "collapsed": true
   },
   "outputs": [],
   "source": [
    "# speed in miles/hour and add it as a new column in the table\n",
    "\n",
    "taxi_weather['speed'] = # complete the code!"
   ]
  },
  {
   "cell_type": "markdown",
   "metadata": {},
   "source": [
    "Now,  find the correlation."
   ]
  },
  {
   "cell_type": "code",
   "execution_count": null,
   "metadata": {
    "collapsed": true
   },
   "outputs": [],
   "source": [
    "# W/ Precipitation\n",
    "\n"
   ]
  },
  {
   "cell_type": "code",
   "execution_count": null,
   "metadata": {
    "collapsed": true
   },
   "outputs": [],
   "source": [
    "# W/ Snow\n",
    "\n",
    "                                   "
   ]
  },
  {
   "cell_type": "markdown",
   "metadata": {},
   "source": [
    "What if we focus on outliers?"
   ]
  },
  {
   "cell_type": "code",
   "execution_count": null,
   "metadata": {
    "collapsed": true
   },
   "outputs": [],
   "source": [
    "taxi_weather['avg_snow[cm]'].plot()"
   ]
  },
  {
   "cell_type": "markdown",
   "metadata": {
    "collapsed": true
   },
   "source": [
    "Look at the snow data is too sparse: it only snowed in two days in 2012, apparently. Therefore, any analysis involving snow won't be significant. But what about precipitation?"
   ]
  },
  {
   "cell_type": "code",
   "execution_count": null,
   "metadata": {
    "collapsed": true,
    "scrolled": true
   },
   "outputs": [],
   "source": [
    "# loop for the different months and check!\n",
    "\n"
   ]
  },
  {
   "cell_type": "code",
   "execution_count": null,
   "metadata": {
    "collapsed": true
   },
   "outputs": [],
   "source": []
  },
  {
   "cell_type": "code",
   "execution_count": null,
   "metadata": {
    "collapsed": true
   },
   "outputs": [],
   "source": []
  },
  {
   "cell_type": "markdown",
   "metadata": {},
   "source": [
    "## Bonus Exercise: Correlation Between N. Taxi Trips and Wind Speed\n",
    "Try to identify outliers! "
   ]
  },
  {
   "cell_type": "code",
   "execution_count": null,
   "metadata": {
    "collapsed": true
   },
   "outputs": [],
   "source": []
  }
 ],
 "metadata": {
  "kernelspec": {
   "display_name": "Python 2",
   "language": "python",
   "name": "python2"
  },
  "language_info": {
   "codemirror_mode": {
    "name": "ipython",
    "version": 2
   },
   "file_extension": ".py",
   "mimetype": "text/x-python",
   "name": "python",
   "nbconvert_exporter": "python",
   "pygments_lexer": "ipython2",
   "version": "2.7.13"
  }
 },
 "nbformat": 4,
 "nbformat_minor": 2
}
